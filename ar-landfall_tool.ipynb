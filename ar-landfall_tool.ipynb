{
 "cells": [
  {
   "cell_type": "code",
   "execution_count": 1,
   "id": "f15f9c63-e85d-40e2-af51-2ac588245ded",
   "metadata": {},
   "outputs": [],
   "source": [
    "# import matplotlib.font_manager as font_manager\n",
    "# font_dir = ['/dir/with/fonts/Arial']\n",
    "# for font in font_manager.findSystemFonts(font_dir):\n",
    "#     font_manager.fontManager.addfont(font)\n",
    "\n",
    "# mpl.rcParams['font.family'] = 'Helvetica'\n",
    "\n",
    "# from matplotlib import rc\n",
    "# rc('font',**{'family':'sans-serif','sans-serif':['PT Sans']})\n",
    "# rc('font',**{'family':'sans-serif'})"
   ]
  },
  {
   "cell_type": "code",
   "execution_count": 2,
   "id": "eec64519-bd44-47c5-94a6-857a44cadb99",
   "metadata": {},
   "outputs": [],
   "source": [
    "# import matplotlib.font_manager\n",
    "# from IPython.core.display import HTML\n",
    "\n",
    "# def make_html(fontname):\n",
    "#     return \"<p>{font}: <span style='font-family:{font}; font-size: 24px;'>{font}</p>\".format(font=fontname)\n",
    "\n",
    "# code = \"\\n\".join([make_html(font) for font in sorted(set([f.name for f in matplotlib.font_manager.fontManager.ttflist]))])\n",
    "\n",
    "# HTML(\"<div style='column-count: 2;'>{}</div>\".format(code))"
   ]
  },
  {
   "cell_type": "code",
   "execution_count": 3,
   "id": "b38cdcf7-adef-49d4-922d-0f61b54243bf",
   "metadata": {},
   "outputs": [],
   "source": [
    "# Standard Python modules\n",
    "import os, sys\n",
    "%matplotlib inline\n",
    "\n",
    "# import personal modules\n",
    "sys.path.append('../')\n",
    "from ar_landfall_tool_contour import landfall_tool_contour\n",
    "from ar_landfall_tool_vector import landfall_tool_vector\n",
    "from ar_landfall_tool_IVT_mag import landfall_tool_IVT_magnitude\n",
    "from cw3e_tools import load_datasets\n",
    "\n",
    "\n",
    "\n",
    "\n",
    "# pd.options.display.float_format = \"{:,.2f}\".format # makes it so pandas tables display only first two decimals"
   ]
  },
  {
   "cell_type": "code",
   "execution_count": 4,
   "id": "1a06e807-0ea9-4160-9fef-0aa35340a7bc",
   "metadata": {},
   "outputs": [
    {
     "name": "stdout",
     "output_type": "stream",
     "text": [
      "US-west latitude coast\n",
      "US-west latitude foothills\n",
      "US-west latitude inland\n",
      "US-west latitude intwest\n",
      "SAK longitude coast\n",
      "SAK longitude foothills\n",
      "SAK longitude inland\n",
      "AK latitude intwest\n",
      "AK latitude coast\n"
     ]
    }
   ],
   "source": [
    "model='ECMWF-GEFS'\n",
    "\n",
    "if (model == 'ECMWF') | (model == 'GEFS') | (model == 'ECMWF-GEFS'):\n",
    "    loc_lst = ['US-west']*4 + ['SAK']*3 + ['AK']*2\n",
    "    ori_lst = ['latitude']*4 + ['longitude']*3 + ['latitude']*2\n",
    "    ptloc_lst = ['coast', 'foothills', 'inland', 'intwest']*2 + ['coast', 'inland']\n",
    "\n",
    "elif (model == 'W-WRF'):\n",
    "    loc_lst = ['US-west']*4 + ['SAK']*2\n",
    "    ori_lst = ['latitude']*4 + ['longitude']*2 \n",
    "    ptloc_lst = ['coast', 'foothills', 'inland', 'intwest'] + ['coast', 'foothills']\n",
    "\n",
    "threshold_lst = [150, 250, 500, 750]\n",
    "\n",
    "# for each model and point location, load the data, then calculate each metric\n",
    "for i, (loc, ori, ptloc) in enumerate(zip(loc_lst, ori_lst, ptloc_lst)):\n",
    "    print(loc, ori, ptloc)"
   ]
  },
  {
   "cell_type": "code",
   "execution_count": 5,
   "id": "8f5ed2a1-d0b8-4dec-8a25-be3590499464",
   "metadata": {},
   "outputs": [
    {
     "name": "stdout",
     "output_type": "stream",
     "text": [
      "CPU times: user 34.7 s, sys: 50.9 s, total: 1min 25s\n",
      "Wall time: 1min 26s\n"
     ]
    }
   ],
   "source": [
    "%%time\n",
    "\n",
    "model = 'ECMWF'\n",
    "loc = 'US-west'\n",
    "ptloc = 'intwest'\n",
    "fname='/data/downloaded/SCRATCH/cw3eit_scratch/ECMWF/archive/IVT_EC_2023082600.nc'\n",
    "# fname=None\n",
    "ori = 'latitude'\n",
    "\n",
    "if model == 'ECMWF-GEFS':   \n",
    "    s = load_datasets('ECMWF', loc, ptloc)\n",
    "    ds_pt_ECMWF, ds_ECMWF = s.calc_ivt_vars()\n",
    "    model_init_date = ds_pt_ECMWF.model_init_date\n",
    "    date_string = model_init_date.strftime('%Y%m%d%H')\n",
    "    path_to_data = '/data/downloaded/SCRATCH/cw3eit_scratch/'\n",
    "    fname = path_to_data + 'GEFS/FullFiles/IVT_Full_{0}.nc'.format(date_string)\n",
    "    \n",
    "    s = load_datasets('GEFS', loc, ptloc)\n",
    "    ds_pt_GEFS, ds_GEFS = s.calc_ivt_vars()\n",
    "    \n",
    "    ## subtract ECMWF - GEFS\n",
    "    ds_pt = ds_pt_ECMWF-ds_pt_GEFS\n",
    "    ds = ds_ECMWF-ds_GEFS\n",
    "    \n",
    "    ## Add attribute information\n",
    "    ds_pt = ds_pt.assign_attrs(model_init_date=model_init_date)\n",
    "    \n",
    "else:\n",
    "    s = load_datasets(model, loc, ptloc, fname)\n",
    "    ds_pt, ds = s.calc_ivt_vars()\n",
    "\n",
    "# if model == 'ECMWF' or model == 'GEFS':\n",
    "#     prec = s.load_prec_QPF_dataset()"
   ]
  },
  {
   "cell_type": "code",
   "execution_count": 6,
   "id": "083944a9-e59b-4301-ad35-51bde8641e35",
   "metadata": {},
   "outputs": [
    {
     "name": "stdout",
     "output_type": "stream",
     "text": [
      "CPU times: user 11.3 s, sys: 7.25 s, total: 18.5 s\n",
      "Wall time: 22.9 s\n"
     ]
    }
   ],
   "source": [
    "%%time\n",
    "s = landfall_tool_contour(ds_pt=ds_pt, loc=loc, ptloc=ptloc, forecast=model, threshold=150, orientation=ori, path_to_out='figs/')\n",
    "s.create_figure()"
   ]
  },
  {
   "cell_type": "code",
   "execution_count": 7,
   "id": "7b9d855c-d473-4064-b727-821aee601fde",
   "metadata": {
    "tags": []
   },
   "outputs": [
    {
     "name": "stdout",
     "output_type": "stream",
     "text": [
      "CPU times: user 10.8 s, sys: 6.02 s, total: 16.8 s\n",
      "Wall time: 29.4 s\n"
     ]
    }
   ],
   "source": [
    "%%time\n",
    "s = landfall_tool_IVT_magnitude(ds_pt=ds_pt, loc=loc, ptloc=ptloc, forecast=model, mag_type='ensemble_mean', orientation=ori, path_to_out='figs/')\n",
    "s.create_figure()"
   ]
  },
  {
   "cell_type": "code",
   "execution_count": 9,
   "id": "46e55595-4e4a-4684-950a-abab444ec7a1",
   "metadata": {
    "tags": []
   },
   "outputs": [
    {
     "ename": "NameError",
     "evalue": "name 'prec' is not defined",
     "output_type": "error",
     "traceback": [
      "\u001b[0;31m---------------------------------------------------------------------------\u001b[0m",
      "\u001b[0;31mNameError\u001b[0m                                 Traceback (most recent call last)",
      "File \u001b[0;32m<timed exec>:1\u001b[0m\n",
      "\u001b[0;31mNameError\u001b[0m: name 'prec' is not defined"
     ]
    }
   ],
   "source": [
    "%%time\n",
    "s = landfall_tool_vector(ds_pt=ds_pt, ds=ds, prec=prec, loc=loc, ptloc=ptloc, forecast=model, threshold=250, orientation=ori, path_to_out='figs/')\n",
    "s.create_figure()"
   ]
  },
  {
   "cell_type": "code",
   "execution_count": null,
   "id": "8f2659c0-a7c6-4224-857d-7d4427028639",
   "metadata": {},
   "outputs": [],
   "source": []
  }
 ],
 "metadata": {
  "kernelspec": {
   "display_name": "Python [conda env:cw3e_ar-tools]",
   "language": "python",
   "name": "conda-env-cw3e_ar-tools-py"
  },
  "language_info": {
   "codemirror_mode": {
    "name": "ipython",
    "version": 3
   },
   "file_extension": ".py",
   "mimetype": "text/x-python",
   "name": "python",
   "nbconvert_exporter": "python",
   "pygments_lexer": "ipython3",
   "version": "3.11.6"
  }
 },
 "nbformat": 4,
 "nbformat_minor": 5
}
